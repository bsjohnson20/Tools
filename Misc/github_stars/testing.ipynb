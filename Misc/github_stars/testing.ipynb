{
 "cells": [
  {
   "cell_type": "code",
   "execution_count": 74,
   "metadata": {},
   "outputs": [],
   "source": [
    "from bs4 import BeautifulSoup as bs\n",
    "import requests as r\n",
    "# Path: main.py\n",
    "def get_soup(html):\n",
    "    return bs(html, 'html.parser')\n",
    "\n",
    "def load_html(url):\n",
    "    return r.get(url).text\n",
    "\n",
    "def parse_git_stars(soup: bs):\n",
    "    try:\n",
    "        text = str(soup.find('span', class_='Counter js-social-count').text)\n",
    "        if \"k\" in text:\n",
    "            text = text.replace(\"k\",\"\")\n",
    "            text = float(text)*1000\n",
    "        elif \"M\" in text:\n",
    "            text = text.replace(\"M\",\"\")\n",
    "            text = float(text)*1000000\n",
    "        else:\n",
    "            text = float(text)\n",
    "        text = int(text)\n",
    "        return text\n",
    "    except  AttributeError:\n",
    "        return 0\n",
    "\n",
    "# load html from file\n",
    "with open(\"test.txt\",\"r\") as f:\n",
    "    html = f.read()\n",
    "    \n",
    "soup = get_soup(html)\n",
    "# fetch links from html\n",
    "urls=[]\n",
    "for link in soup.findAll('a'):\n",
    "    urls.append(link.get('href'))"
   ]
  },
  {
   "cell_type": "code",
   "execution_count": 76,
   "metadata": {},
   "outputs": [],
   "source": [
    "# Fetch page of the links and parses the stars and stores them in a dictionary\n",
    "stars = {}\n",
    "for url in urls:\n",
    "    if \"https://github.com\" in url:\n",
    "        html = load_html(url)\n",
    "        soup = get_soup(html)\n",
    "        stars[url] = parse_git_stars(soup)\n"
   ]
  },
  {
   "cell_type": "code",
   "execution_count": 84,
   "metadata": {},
   "outputs": [
    {
     "name": "stdout",
     "output_type": "stream",
     "text": [
      "https://github.com/Eugeny/tabby 54100\n",
      "https://github.com/jwilm/alacritty 51700\n",
      "https://github.com/zeit/hyper 42400\n",
      "https://github.com/GitSquared/edex-ui 39600\n",
      "https://github.com/kovidgoyal/kitty 21400\n",
      "https://github.com/railsware/upterm 19300\n",
      "https://github.com/wez/wezterm 12800\n",
      "https://github.com/mobile-shell/mosh 12100\n",
      "https://github.com/gnunn1/tilix 5300\n",
      "https://github.com/liamg/darktile 3000\n",
      "https://github.com/raphamorim/rio 2800\n",
      "https://github.com/thestinger/termite/ 2800\n",
      "https://github.com/sedwards2009/extraterm 2400\n",
      "https://github.com/withoutboats/notty 2300\n",
      "https://github.com/lanoxx/tilda 1200\n",
      "https://github.com/uobikiemukot/yaft 591\n",
      "https://github.com/lxqt/qterminal 559\n",
      "https://github.com/elementary/terminal 400\n",
      "https://github.com/tomscii/zutty 361\n",
      "https://github.com/GNOME/gnome-terminal 278\n",
      "https://github.com/91861/wayst 268\n",
      "https://github.com/fyne-io/terminal 208\n",
      "https://github.com/nonstop/termit 143\n"
     ]
    }
   ],
   "source": [
    "# sort the dictionary by stars\n",
    "sorted_stars = dict(sorted(stars.items(), key=lambda item: item[1], reverse=True))\n",
    "for key in sorted_stars:\n",
    "    print(key, sorted_stars[key])"
   ]
  }
 ],
 "metadata": {
  "kernelspec": {
   "display_name": "Python 3",
   "language": "python",
   "name": "python3"
  },
  "language_info": {
   "codemirror_mode": {
    "name": "ipython",
    "version": 3
   },
   "file_extension": ".py",
   "mimetype": "text/x-python",
   "name": "python",
   "nbconvert_exporter": "python",
   "pygments_lexer": "ipython3",
   "version": "3.10.12"
  }
 },
 "nbformat": 4,
 "nbformat_minor": 2
}
